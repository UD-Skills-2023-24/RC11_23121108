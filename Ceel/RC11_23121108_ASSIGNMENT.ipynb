{
 "cells": [
  {
   "cell_type": "markdown",
   "id": "0f6d3d14",
   "metadata": {},
   "source": [
    "# Complexity Assignment - c.pierik"
   ]
  },
  {
   "cell_type": "markdown",
   "id": "b8347d2b",
   "metadata": {},
   "source": [
    "# Exercise One\n",
    "### 1. lmplement this algorithm in Python. Use the NumPy ndarray object foryour matrices;"
   ]
  },
  {
   "cell_type": "code",
   "execution_count": 16,
   "id": "89e77cf2",
   "metadata": {},
   "outputs": [],
   "source": [
    "import numpy as np"
   ]
  },
  {
   "cell_type": "code",
   "execution_count": 17,
   "id": "a4bd4558",
   "metadata": {},
   "outputs": [],
   "source": [
    "import numpy as np\n",
    "\n",
    "def square_matrix_multiply(A, B):\n",
    "    n = len(A)\n",
    "    C = [[0] * n for _ in range(n)] #Initialize\n",
    "    \n",
    "    for i in range(n):# Iterate through rows of A\n",
    "        for j in range(n):# Iterate through columns of B\n",
    "            for k in range(n):# Iterate through elements of rows of A and columns of B\n",
    "                C[i][j] += A[i][k] * B[k][j]# Compute the product and accumulate it in C\n",
    "    return C"
   ]
  },
  {
   "cell_type": "code",
   "execution_count": 3,
   "id": "c4b91228",
   "metadata": {},
   "outputs": [
    {
     "name": "stdout",
     "output_type": "stream",
     "text": [
      "[[19, 18], [43, 38]]\n"
     ]
    }
   ],
   "source": [
    "# Example\n",
    "A = np. array([[1,2],[3,4]])\n",
    "B= np.array([[5,2],[7,8]])\n",
    "\n",
    "result=square_matrix_multiply(A, B)\n",
    "print(result)"
   ]
  },
  {
   "cell_type": "markdown",
   "id": "b5fdaa6b",
   "metadata": {},
   "source": [
    "### 2. Give the asymptotic time complexity of the above algorithm or your implementation (they should be the same). Justify and explain your answer"
   ]
  },
  {
   "cell_type": "markdown",
   "id": "3e78c922",
   "metadata": {},
   "source": [
    "#### I think the time complexity of O(n^3), where n is the size of the square matrices A and B.\n",
    "#### \"for i = 1 to n do\"--------------------n times;\n",
    "#### \"for j = 1 to n do\"--------------------n times;\n",
    "#### \"cij = 0 for k = 1 to n do\"----------n times;\n",
    "#### \"cij = cij + aik × bkj\"----------------n times;\n",
    "#### So, O(n* n* n) = O(n^3)"
   ]
  },
  {
   "cell_type": "markdown",
   "id": "0199f570",
   "metadata": {},
   "source": [
    "### Suggestion1. Implement the algorithm with nested lists and compare the algorithms on different sizes of matrices"
   ]
  },
  {
   "cell_type": "markdown",
   "id": "f5329788",
   "metadata": {},
   "source": [
    "### Suggestion2. Compare with built-in multiplication functions"
   ]
  },
  {
   "cell_type": "code",
   "execution_count": 18,
   "id": "b19d5277",
   "metadata": {},
   "outputs": [
    {
     "name": "stdout",
     "output_type": "stream",
     "text": [
      "Matrix size: 100x100\n",
      "NumPy time: 0.000 s\n",
      "Nested list time: 0.143 s\n",
      "\n",
      "Matrix size: 200x200\n",
      "NumPy time: 0.005 s\n",
      "Nested list time: 1.268 s\n",
      "\n",
      "Matrix size: 500x500\n",
      "NumPy time: 0.126 s\n",
      "Nested list time: 27.045 s\n",
      "\n"
     ]
    }
   ],
   "source": [
    "import time\n",
    "\n",
    "def generate_random_matrix(n):\n",
    "    return [[np.random.randint(20) for _ in range(n)] for _ in range(n)]\n",
    "\n",
    "# define the size\n",
    "sizes = [100, 200, 500]\n",
    "for size in sizes:\n",
    "    A = generate_random_matrix(size)\n",
    "    B = generate_random_matrix(size)\n",
    "    \n",
    "    # consuming time of built-in multiplication functions\n",
    "    start_time = time.time()\n",
    "    np_result = np.dot(A, B) \n",
    "    numpy_time = time.time() - start_time\n",
    "\n",
    "    # consuming time of nested list implementation\n",
    "    start_time = time.time()\n",
    "    list_result = square_matrix_multiply(A, B)\n",
    "    list_time = time.time() - start_time\n",
    "    \n",
    "    print(f\"Matrix size: {size}x{size}\")\n",
    "    print(f\"NumPy time: {numpy_time:.3f} s\")\n",
    "    print(f\"Nested list time: {list_time:.3f} s\")\n",
    "    print()"
   ]
  },
  {
   "cell_type": "markdown",
   "id": "9c6db445",
   "metadata": {},
   "source": [
    "### Suggestion3. Look at multiplying more than two matrices, or at other operations on matrices"
   ]
  },
  {
   "cell_type": "code",
   "execution_count": 21,
   "id": "c4a76c2a",
   "metadata": {},
   "outputs": [],
   "source": [
    "# let's try multiplying three matrices\n",
    "def multiply_matrices(*matrices):\n",
    "    result = matrices[0]\n",
    "    for matrix in matrices[1:]:\n",
    "        result = square_matrix_multiply(result, matrix)\n",
    "    return result"
   ]
  },
  {
   "cell_type": "code",
   "execution_count": 19,
   "id": "a05be68f",
   "metadata": {},
   "outputs": [
    {
     "name": "stdout",
     "output_type": "stream",
     "text": [
      "random_matrix A:\n",
      "[1, 8, 12]\n",
      "[10, 14, 10]\n",
      "[16, 16, 12]\n",
      "\n",
      "random_matrix B:\n",
      "[19, 5, 18]\n",
      "[0, 7, 14]\n",
      "[17, 19, 19]\n",
      "\n",
      "random_matrix C:\n",
      "[19, 0, 17]\n",
      "[3, 17, 15]\n",
      "[4, 4, 11]\n"
     ]
    }
   ],
   "source": [
    "# Example\n",
    "A = generate_random_matrix(3)\n",
    "B = generate_random_matrix(3)\n",
    "C = generate_random_matrix(3)\n",
    "\n",
    "print(\"random_matrix A:\")\n",
    "for row in A:\n",
    "    print(row)\n",
    "print(\"\\nrandom_matrix B:\")\n",
    "for row in B:\n",
    "    print(row)\n",
    "print(\"\\nrandom_matrix C:\")\n",
    "for row in C:\n",
    "    print(row)"
   ]
  },
  {
   "cell_type": "code",
   "execution_count": 22,
   "id": "e4169ca3",
   "metadata": {},
   "outputs": [
    {
     "name": "stdout",
     "output_type": "stream",
     "text": [
      "[[6536, 6345, 12064], [10118, 8010, 17416], [13872, 10100, 23076]]\n",
      "\n",
      "[[ 6536  6345 12064]\n",
      " [10118  8010 17416]\n",
      " [13872 10100 23076]]\n"
     ]
    }
   ],
   "source": [
    "list_result = multiply_matrices(A, B, C)\n",
    "print(list_result)\n",
    "\n",
    "print()\n",
    "\n",
    "np_result = np.dot(np.dot(A, B), C) \n",
    "print(np_result)"
   ]
  },
  {
   "cell_type": "markdown",
   "id": "e3378ac8",
   "metadata": {},
   "source": [
    "# Exercise Two\n",
    "### 1. Describe and explain the algorithm. It should contain at least the following:"
   ]
  },
  {
   "cell_type": "markdown",
   "id": "56938e5b",
   "metadata": {},
   "source": [
    "This algorithm, Square-Matrix-Multiply-Recursive (SMMRec), is a recursive implementation of matrix multiplication. \n",
    "\n",
    "1. \"SMMRec(A,B):\": accepts two matrices A and B as input.\n",
    "2. \"n = nr of rows of A\": Define a variable n which is equal to the number of rows of A, also the size of A.\n",
    "3. \"let C be a new n × n matrix\": Create a new square C with the same dimensions as A and B.\n",
    "4. \"if n == 1 then\":If the size of the matrix is 1 × 1, the following operations are performed; otherwise, the chunked multiplication of the matrix is performed.\n",
    "5. \"quarter matrices A, B, and C\":Divide the matrices A, B and C into four equal-sized sub-matrices.\n",
    "6. \"C11 = SMMRec(A11,B11) + SMMRec(A12,B21)\"\"C12 = SMMRec(A11,B12) + SMMRec(A12,B22)\"\"C21 = SMMRec(A21,B11) + SMMRec(A22,B21)\"\"C22 = SMMRec(A21,B12) + SMMRec(A22,B22)\": Calculate the value of C11 C12 C21 C22 separately.\n",
    "\n",
    "**recursiveness:**\n",
    "The base case of the recursion is when the size of the matrices becomes 1 × 1, the algorithm computes the product directly without further recursion.And in each recursion step, the algorithm divides the input matrices into four equal-sized submatrices. It then recursively multiplies these submatrices until the base case is reached, where it computes the product directly.\n",
    "\n",
    "**divide-and-conquer:**\n",
    "1. **Divide**:The algorithm divides the input matrices A, B, and C into four equal-sized submatrices.\n",
    "2. **Conquer**: It recursively multiplies these submatrices. Each multiplication involves recursively calling the SMMRec function until the base case is reached, and then directly computing the product.\n",
    "3. **Combine**: After computing the products of submatrices, the algorithm combines them to form the final result matrix C. The combination involves adding or summing the products of corresponding submatrices to form the corresponding submatrices of C."
   ]
  },
  {
   "cell_type": "markdown",
   "id": "c5a5bd3d",
   "metadata": {},
   "source": [
    "### 2. Implement the recursive algorithm in Python. Reflect on which steps of the pseudocode were straightforward to implement and which hid a lot of complexity behind their language."
   ]
  },
  {
   "cell_type": "code",
   "execution_count": 11,
   "id": "a3721da9",
   "metadata": {},
   "outputs": [],
   "source": [
    "import numpy as np\n",
    "def split_matrix(A):\n",
    "    mid = len(A) // 2\n",
    "    \n",
    "    A11 = [row[:mid] for row in A[:mid]]\n",
    "    A21 = [row[:mid] for row in A[mid:]]\n",
    "    A12 = [row[mid:] for row in A[:mid]]\n",
    "    A22 = [row[mid:] for row in A[mid:]]\n",
    "    \n",
    "    return A11, A12, A21, A22\n",
    "\n",
    "def combine_matrices(C11, C12, C21, C22):\n",
    "    n = len(C11)\n",
    "    C = [[0 for _ in range(2 * n)] for _ in range(2 * n)]\n",
    "    \n",
    "    for i in range(n):\n",
    "        for j in range(n):\n",
    "            C[i][j] = C11[i][j]\n",
    "            C[i][j + n] = C12[i][j]\n",
    "            C[i + n][j] = C21[i][j]\n",
    "            C[i + n][j + n] = C22[i][j]\n",
    "    return C\n",
    "\n",
    "def matrix_add(A, B):\n",
    "    return [[A[i][j] + B[i][j] for j in range(len(A))] for i in range(len(A))]\n",
    "\n",
    "\n",
    "\n",
    "\n",
    "def SMM_recursive(A, B):\n",
    "    n = len(A)\n",
    "    if n == 1:\n",
    "        # Base case\n",
    "        return [[A[0][0] * B[0][0]]]  \n",
    "    \n",
    "    else:\n",
    "        \n",
    "        A11, A12, A21, A22 = split_matrix(A)\n",
    "        B11, B12, B21, B22 = split_matrix(B)\n",
    "\n",
    "        # Recursive multiplications\n",
    "        C11 = matrix_add(SMM_recursive(A11, B11), SMM_recursive(A12, B21))\n",
    "        C12 = matrix_add(SMM_recursive(A11, B12), SMM_recursive(A12, B22))\n",
    "        C21 = matrix_add(SMM_recursive(A21, B11), SMM_recursive(A22, B21))\n",
    "        C22 = matrix_add(SMM_recursive(A21, B12), SMM_recursive(A22, B22))\n",
    "\n",
    "       \n",
    "        return combine_matrices(C11, C12, C21, C22)"
   ]
  },
  {
   "cell_type": "code",
   "execution_count": 19,
   "id": "ae32453c",
   "metadata": {},
   "outputs": [
    {
     "name": "stdout",
     "output_type": "stream",
     "text": [
      "random_matrix A:\n",
      "[6, 8, 0, 13]\n",
      "[16, 15, 2, 17]\n",
      "[11, 9, 1, 17]\n",
      "[19, 12, 1, 19]\n",
      "\n",
      "random_matrix B:\n",
      "[11, 15, 12, 19]\n",
      "[15, 14, 8, 10]\n",
      "[13, 2, 7, 14]\n",
      "[15, 1, 0, 10]\n",
      "\n",
      "random_matrix C:\n",
      "[17, 7, 17, 7]\n",
      "[1, 2, 1, 2]\n",
      "[19, 9, 11, 15]\n",
      "[14, 15, 1, 14]\n"
     ]
    }
   ],
   "source": [
    "# Example\n",
    "def generate_random_matrix(n):\n",
    "    return [[np.random.randint(20) for _ in range(n)] for _ in range(n)]\n",
    "\n",
    "A = generate_random_matrix(4)\n",
    "B = generate_random_matrix(4)\n",
    "C = generate_random_matrix(4)\n",
    "\n",
    "print(\"random_matrix A:\")\n",
    "for row in A:\n",
    "    print(row)\n",
    "print(\"\\nrandom_matrix B:\")\n",
    "for row in B:\n",
    "    print(row)\n",
    "print(\"\\nrandom_matrix C:\")\n",
    "for row in C:\n",
    "    print(row)"
   ]
  },
  {
   "cell_type": "code",
   "execution_count": 22,
   "id": "e03dccf3",
   "metadata": {},
   "outputs": [
    {
     "name": "stdout",
     "output_type": "stream",
     "text": [
      "square matrix multiplyrecursive result:\n",
      " [[381, 215, 136, 324], [682, 471, 326, 652], [524, 310, 211, 483], [687, 474, 331, 685]]\n",
      "np result:\n",
      " [[381 215 136 324]\n",
      " [682 471 326 652]\n",
      " [524 310 211 483]\n",
      " [687 474 331 685]]\n"
     ]
    }
   ],
   "source": [
    "C = SMM_recursive(A, B)\n",
    "print(\"square matrix multiplyrecursive result:\\n\", C)\n",
    "\n",
    "np_result = np.dot(A, B) # Check the results\n",
    "print(\"np result:\\n\", np_result)"
   ]
  },
  {
   "cell_type": "markdown",
   "id": "46fb5ded",
   "metadata": {},
   "source": [
    "**Straightforward Steps:**\n",
    "1. Base case\n",
    "2. Splitting matrices\n",
    "3. Combining matrices\n",
    "\n",
    "**Steps with Complexity behind:**\n",
    "1. Matrix addition: Matrix addition involves adding corresponding elements of matrices together. We iterate over the matrices, accessing corresponding elements and adding them together in the matrix_add() function,\n",
    "2. Recursive call: The algorithm computes the product of submatrices by performing addition and multiplication on the corresponding elements in the pseudocode."
   ]
  },
  {
   "cell_type": "markdown",
   "id": "7f7faadd",
   "metadata": {},
   "source": [
    "### 3. Do a complexity analysis for the SMMRec algorithm. First comment on the complexity of the base case, divide step, conquer step, and combine step separately, then put it all together.\n",
    "#### Use slides 20-21 of the lecture slides (pages 40-45 of the pdf) of Complexity lecture 2 as a guideline.\n",
    "#### You do not have to do the tree analysis (slides 22-23), but do take aguess what the final complexity is."
   ]
  },
  {
   "cell_type": "markdown",
   "id": "276bb203",
   "metadata": {},
   "source": [
    "**Base Case:**\n",
    "In the base case, when the matrices are of size 1x1, the complexity is constant time since there's only one element to process.\n",
    "\n",
    "**Divide Step:**\n",
    "The divide step involves splitting the input matrices into smaller submatrices. This operation has a time complexity of O(1) since it only involves index manipulation.\n",
    "\n",
    "**Conquer Step:**\n",
    "In the conquer step, the algorithm recursively computes the products of the submatrices. If we denote the size of the matrices as n, then in each recursive call, the matrices are divided into four submatrices of size n/2. Hence, the conquer step has a time complexity of T(n/2).\n",
    "\n",
    "**Combine Step:**\n",
    "In the combine step, the products of the submatrices are combined to form the final result. Since this step involves summation and multiplication of corresponding elements, its time complexity is O(n^2), where n is the size of the matrices."
   ]
  },
  {
   "cell_type": "markdown",
   "id": "216f42a5",
   "metadata": {},
   "source": [
    "**T(n)** =\n",
    "\n",
    "{\n",
    "\n",
    "O(1) if n = 1 (base case)\n",
    "\n",
    "4T(n/2) + O(n^2) otherwise\n",
    "\n",
    "}\n",
    "\n",
    "The overall time complexity of the SMMRec algorithm is O(n^3), where n is the size of the input matrices.I guess."
   ]
  },
  {
   "cell_type": "markdown",
   "id": "900e91d8",
   "metadata": {},
   "source": [
    "###  Suggestion1. Do a tree analysis;"
   ]
  },
  {
   "cell_type": "code",
   "execution_count": null,
   "id": "4571950b",
   "metadata": {},
   "outputs": [],
   "source": [
    "                            T(n)\n",
    "                           /  |  \\\n",
    "                          /   |   \\\n",
    "                      T(n/2) T(n/2) T(n/2) T(n/2)\n",
    "                     / | \\   / | \\   / | \\   / | \\\n",
    "              T(n/4) ...   T(n/4) ...   T(n/4) ...\n",
    "             / | \\              / | \\              / | \\\n",
    "        T(n/8) ...          T(n/8) ...          T(n/8) ...\n",
    "          / | \\               / | \\               / | \\"
   ]
  },
  {
   "cell_type": "code",
   "execution_count": null,
   "id": "3711027a",
   "metadata": {},
   "outputs": [],
   "source": [
    "The number of nodes at each level of the tree:\n",
    "Level 0: 1 node (root)\n",
    "Level 1: 4 nodes\n",
    "Level 2: 4^2 = 16 nodes\n",
    "Level i: 4^i nodes"
   ]
  },
  {
   "cell_type": "markdown",
   "id": "0f708ae4",
   "metadata": {},
   "source": [
    "Since the tree height corresponds to the number of recursive calls until reaching the base case, and the base case occurs when n=1, the height of the tree is log2(n)"
   ]
  },
  {
   "cell_type": "markdown",
   "id": "7903d212",
   "metadata": {},
   "source": [
    "Therefore, the total number of nodes in the tree is 1+4+4^2+...+4^log2(n)   The sum of this series is: 4n-1/3"
   ]
  },
  {
   "cell_type": "markdown",
   "id": "215e57d4",
   "metadata": {},
   "source": [
    "Each node represents a subproblem, and the work done at each node (excluding the base case) is O(n^2) because of the combine step.Therefore, the total complexity of the algorithm is the product of the number of nodes and the work done at each node, which gives us:"
   ]
  },
  {
   "cell_type": "markdown",
   "id": "5b51f2d3",
   "metadata": {},
   "source": [
    "T(n) = 4n-1/3 ⋅ O(n^2) = O(n^3)"
   ]
  },
  {
   "cell_type": "markdown",
   "id": "dcf434f1",
   "metadata": {},
   "source": [
    "###  Suggestion2. Test and compare the practical speed with the non-recursive algorithm"
   ]
  },
  {
   "cell_type": "code",
   "execution_count": 53,
   "id": "6bada170",
   "metadata": {},
   "outputs": [
    {
     "name": "stdout",
     "output_type": "stream",
     "text": [
      "Matrix size: 4x4\n",
      "Recursive time: 0.002 s\n",
      "Non-recursive time: 0.000 s\n",
      "\n",
      "Matrix size: 64x64\n",
      "Recursive time: 0.458 s\n",
      "Non-recursive time: 0.000 s\n",
      "\n",
      "Matrix size: 256x256\n",
      "Recursive time: 37.168 s\n",
      "Non-recursive time: 0.020 s\n",
      "\n"
     ]
    }
   ],
   "source": [
    "sizes = [4,64,256]  \n",
    "for size in sizes:\n",
    "    A = generate_random_matrix(size)\n",
    "    B = generate_random_matrix(size)\n",
    "    \n",
    "    # recursive algorithm\n",
    "    start_time = time.time()\n",
    "    result_recursive = SMM_recursive(A, B)\n",
    "    recursive_time = time.time() - start_time\n",
    "\n",
    "    # non-recursive algorithm\n",
    "    start_time = time.time()\n",
    "    result_non_recursive = np.dot(A, B)\n",
    "    non_recursive_time = time.time() - start_time\n",
    "\n",
    "    print(f\"Matrix size: {size}x{size}\")\n",
    "    print(f\"Recursive time: {recursive_time:.3f} s\")\n",
    "    print(f\"Non-recursive time: {non_recursive_time:.3f} s\")\n",
    "    print()"
   ]
  },
  {
   "cell_type": "markdown",
   "id": "09cf8fa8",
   "metadata": {},
   "source": [
    "# Exercise Three\n",
    "### 1. Reflect on the difference between (complexity of) addition/subtraction and multiplication on matrices."
   ]
  },
  {
   "cell_type": "markdown",
   "id": "a9f6d679",
   "metadata": {},
   "source": [
    "**Addition/Subtraction Complexity:**\n",
    "For addition and subtraction of matrices, the computational complexity is generally O（n^2）, where n is the size (number of rows or columns) of the matrices. This is because we simply iterate over each element of the matrices and perform addition or subtraction on corresponding elements.\n",
    "\n",
    "**Multiplication Complexity:**\n",
    "Matrix multiplication has a higher computational complexity compared to addition/subtraction. The complexity arises from the fact that each element of the resulting matrix requires a sum of products of corresponding elements from the row of the first matrix and the column of the second matrix. The complexity of the standard matrix multiplication algorithm (like the naive approach or Strassen's algorithm) is approximately O(n^3)."
   ]
  },
  {
   "cell_type": "markdown",
   "id": "dfeeecee",
   "metadata": {},
   "source": [
    "### 2. Do a complexity analysis of the Strassen algorithm."
   ]
  },
  {
   "cell_type": "markdown",
   "id": "892afdcf",
   "metadata": {},
   "source": [
    "**1. Base Case:**\n",
    "The base case occurs when the matrices are small enough to be multiplied using a direct method, typically when the matrices reach a certain threshold size (often 2x2 or 3x3). The complexity of the base case is constant time, denoted as O(1)."
   ]
  },
  {
   "cell_type": "markdown",
   "id": "6bbbd129",
   "metadata": {},
   "source": [
    "**2. Divide Step:**\n",
    "The divide step involves partitioning the input matrices into submatrices. In the Strassen algorithm, each matrix is divided into four submatrices of approximately half the size. This step has a time complexity of O(1) since it only involves index manipulation.  "
   ]
  },
  {
   "cell_type": "markdown",
   "id": "1398d2b2",
   "metadata": {},
   "source": [
    "**3. Conquer Step**\n",
    "The conquer step involves recursively multiplying the submatrices and combining the results to form the final result. In each recursive call, the algorithm performs 7 recursive multiplications of submatrices of size n/2 and 18 additions or subtractions of these intermediate results. Therefore, the complexity of the conquer step can be expressed as:"
   ]
  },
  {
   "cell_type": "markdown",
   "id": "acf0cddd",
   "metadata": {},
   "source": [
    "T(n) = 7T(n/2) + O(n2）"
   ]
  },
  {
   "cell_type": "markdown",
   "id": "d81efe58",
   "metadata": {},
   "source": [
    "**4. Combine Step:**\n",
    "The combine step involves combining the results of the recursive calls to form the final result matrix. This step typically involves simple additions and subtractions of corresponding submatrices, which has a time complexity of O(n^2)"
   ]
  },
  {
   "cell_type": "markdown",
   "id": "aa72e33d",
   "metadata": {},
   "source": [
    "**T(n)** =\n",
    "\n",
    "{\n",
    "\n",
    "O(1) if n is small enough (base case)\n",
    "\n",
    "7T(n/2) + O(n^2) ≈ O(n^2.81) otherwise\n",
    "\n",
    "}"
   ]
  },
  {
   "cell_type": "markdown",
   "id": "9d45e53b",
   "metadata": {},
   "source": [
    "### Suggestion1. Implement and test the algorithm;"
   ]
  },
  {
   "cell_type": "code",
   "execution_count": 56,
   "id": "935c693c",
   "metadata": {},
   "outputs": [],
   "source": [
    "def matrix_sub(A, B):\n",
    "    return [[A[i][j] - B[i][j] for j in range(len(A))] for i in range(len(A))]\n",
    "\n",
    "def Strassen(A, B):\n",
    "    n = len(A)\n",
    "    if n == 1:\n",
    "        # Base case\n",
    "        return [[A[0][0] * B[0][0]]]  \n",
    "    else:\n",
    "        # Divide\n",
    "        A11, A12, A21, A22 = split_matrix(A)\n",
    "        B11, B12, B21, B22 = split_matrix(B)\n",
    "\n",
    "        S1 = matrix_sub(B12, B22)\n",
    "        S2 = matrix_add(A11, A12)\n",
    "        S3 = matrix_add(A21, A22)\n",
    "        S4 = matrix_sub(B21, B11)\n",
    "        S5 = matrix_add(A11, A22)\n",
    "        S6 = matrix_add(B11, B22)\n",
    "        S7 = matrix_sub(A12, A22)\n",
    "        S8 = matrix_add(B21, B22)\n",
    "        S9 = matrix_sub(A11, A21)\n",
    "        S10 = matrix_add(B11, B12)\n",
    "        \n",
    "        # Conquer\n",
    "        P1 = Strassen(A11, S1)\n",
    "        P2 = Strassen(S2, B22)\n",
    "        P3 = Strassen(S3, B11)\n",
    "        P4 = Strassen(A22, S4)\n",
    "        P5 = Strassen(S5, S6)\n",
    "        P6 = Strassen(S7, S8)\n",
    "        P7 = Strassen(S9, S10)\n",
    "\n",
    "        C11 = matrix_add(matrix_sub(matrix_add(P5, P4), P2), P6)\n",
    "        C12 = matrix_add(P1, P2)\n",
    "        C21 = matrix_add(P3, P4)\n",
    "        C22 = matrix_sub(matrix_sub(matrix_add(P5, P1), P3), P7)\n",
    "\n",
    "        # Combine \n",
    "        return combine_matrices(C11, C12, C21, C22)"
   ]
  },
  {
   "cell_type": "code",
   "execution_count": 61,
   "id": "2e412a61",
   "metadata": {},
   "outputs": [
    {
     "name": "stdout",
     "output_type": "stream",
     "text": [
      "Strassen result:\n",
      "[210, 144, 126, 129]\n",
      "[168, 179, 116, 116]\n",
      "[378, 369, 270, 263]\n",
      "[266, 393, 207, 184]\n",
      "\n",
      "np result:\n",
      " [[210 144 126 129]\n",
      " [168 179 116 116]\n",
      " [378 369 270 263]\n",
      " [266 393 207 184]]\n"
     ]
    }
   ],
   "source": [
    "# Example\n",
    "A = [[1, 2, 3, 12], [4, 5, 6, 2], [9, 7, 10, 12], [11, 10, 5, 7]]\n",
    "B = [[2, 14, 8, 5], [8, 17, 2, 2], [16, 4, 10, 12], [12, 7, 7, 7]]\n",
    "\n",
    "C = Strassen(A, B)\n",
    "print(\"Strassen result:\")\n",
    "for row in C:\n",
    "    print(row)\n",
    "print()\n",
    "\n",
    "np_result = np.dot(A, B) \n",
    "print(\"np result:\\n\", np_result)"
   ]
  },
  {
   "cell_type": "code",
   "execution_count": 62,
   "id": "4ff3e724",
   "metadata": {},
   "outputs": [
    {
     "name": "stdout",
     "output_type": "stream",
     "text": [
      "Matrix size: 4x4\n",
      "Strassen's time: 0.001 s\n",
      "Recursive time: 0.001 s\n",
      "Non-recursive time: 0.000 s\n",
      "Matrix size: 64x64\n",
      "Strassen's time: 0.705 s\n",
      "Recursive time: 0.577 s\n",
      "Non-recursive time: 0.000 s\n",
      "Matrix size: 256x256\n",
      "Strassen's time: 34.941 s\n",
      "Recursive time: 37.086 s\n",
      "Non-recursive time: 0.020 s\n"
     ]
    }
   ],
   "source": [
    "# Time comparison\n",
    "sizes = [4,64,256]  \n",
    "for size in sizes:\n",
    "    A = generate_random_matrix(size)\n",
    "    B = generate_random_matrix(size)\n",
    "\n",
    "    # Strassen's algorithm\n",
    "    start_time = time.time()\n",
    "    result_strassen = Strassen(A, B)\n",
    "    strassen_time = time.time() - start_time\n",
    "    \n",
    "    # Recursive algorithm\n",
    "    start_time = time.time()\n",
    "    result_recursive = SMMRec(A, B)\n",
    "    recursive_time = time.time() - start_time\n",
    "\n",
    "    # Non-recursive algorithm\n",
    "    start_time = time.time()\n",
    "    result_non_recursive = np.dot(A, B)\n",
    "    non_recursive_time = time.time() - start_time\n",
    "\n",
    "    \n",
    "    print(f\"Matrix size: {size}x{size}\")\n",
    "    print(f\"Strassen's time: {strassen_time:.3f} s\")\n",
    "    print(f\"Recursive time: {recursive_time:.3f} s\")\n",
    "    print(f\"Non-recursive time: {non_recursive_time:.3f} s\")"
   ]
  },
  {
   "cell_type": "markdown",
   "id": "d41579e3",
   "metadata": {},
   "source": [
    "### Suggestion2. Discuss other optimisations;"
   ]
  },
  {
   "cell_type": "markdown",
   "id": "9c06a6ac",
   "metadata": {},
   "source": [
    "###### **Finkel-Kanth algorithm**\n",
    "\n",
    "FK algorithm (Finkel-Kanth algorithm) is an optimization algorithm for sparse matrix multiplication, aiming to reduce the number of multiplication operations by exploiting the sparsity property. Sparse matrices are matrices where the majority of elements are zeros.The key idea of the FK algorithm is to only compute multiplication operations for non-zero elements in sparse matrices, while ignoring zero elements. By doing so, the computational workload can be significantly reduced, leading to improved efficiency in sparse matrix multiplication.\n"
   ]
  },
  {
   "cell_type": "markdown",
   "id": "de806941",
   "metadata": {},
   "source": [
    "The FK algorithm typically consists of two stages: preprocessing stage and computation stage.\n",
    "\n",
    "**1 Preprocessing Stage:**\n",
    "In the preprocessing stage, the input sparse matrix undergoes some preprocessing operations to determine which elements are non-zero and their positions. This can be achieved by scanning the rows and columns of the sparse matrix and storing the positions of non-zero elements in a data structure, such as compressed sparse row (CSR) or compressed sparse column (CSC) representation.\n",
    "\n",
    "**2 Computation Stage：**\n",
    "In the computation stage, utilizing the positions of non-zero elements obtained from the preprocessing stage, multiplication operations are only performed for these non-zero elements. This means that for two sparse matrices A and B, multiplication operations are only performed when there are non-zero elements in the same position in row i of matrix A and column j of matrix B, and the results are accumulated at the corresponding position in the product matrix."
   ]
  },
  {
   "cell_type": "markdown",
   "id": "a9b4f68c",
   "metadata": {},
   "source": [
    "Here is an example that explains the two stages"
   ]
  },
  {
   "cell_type": "code",
   "execution_count": 65,
   "id": "659fee04",
   "metadata": {},
   "outputs": [
    {
     "name": "stdout",
     "output_type": "stream",
     "text": [
      "Preprocessing stage:\n",
      "Non-zero positions in matrix A: [(0, 0), (1, 1), (2, 2)]\n",
      "Non-zero positions in matrix B: [(0, 0), (1, 1), (2, 2)]\n",
      "\n",
      "Computation stage:\n",
      "[4, 0, 0]\n",
      "[0, 10, 0]\n",
      "[0, 0, 18]\n"
     ]
    }
   ],
   "source": [
    "def preprocess_sparse_matrix(matrix):\n",
    "    non_zero_positions = []\n",
    "    for i in range(len(matrix)):\n",
    "        for j in range(len(matrix[0])):\n",
    "            if matrix[i][j] != 0:\n",
    "                non_zero_positions.append((i, j))\n",
    "    return non_zero_positions\n",
    "\n",
    "def finkel_kanth_multiply(A, B):\n",
    "    # Preprocessing stage\n",
    "    non_zero_positions_A = preprocess_sparse_matrix(A)\n",
    "    non_zero_positions_B = preprocess_sparse_matrix(B)\n",
    "    \n",
    "    # Computation stage\n",
    "    result = [[0 for _ in range(len(B[0]))] for _ in range(len(A))]\n",
    "    for i, j in non_zero_positions_A:\n",
    "        for k, l in non_zero_positions_B:\n",
    "            if j == k:  # Only perform multiplication when the column index of A matches the row index of B\n",
    "                result[i][l] += A[i][j] * B[k][l]\n",
    "    return result\n",
    "\n",
    "# Example\n",
    "A = [[1, 0, 0], [0, 2, 0], [0, 0, 3]]\n",
    "B = [[4, 0, 0], [0, 5, 0], [0, 0, 6]]\n",
    "\n",
    "print(\"Preprocessing stage:\")\n",
    "print(\"Non-zero positions in matrix A:\", preprocess_sparse_matrix(A))\n",
    "print(\"Non-zero positions in matrix B:\", preprocess_sparse_matrix(B))\n",
    "print()\n",
    "\n",
    "print(\"Computation stage:\")\n",
    "result = finkel_kanth_multiply(A, B)\n",
    "for row in result:\n",
    "    print(row)\n"
   ]
  },
  {
   "cell_type": "markdown",
   "id": "a0b8eed3",
   "metadata": {},
   "source": [
    "\n",
    "**Advantages:** Reduction in the number of multiplication operations, especially for sparse matrices, leading to significant computational savings.Improved efficiency by ignoring zero elements, particularly beneficial for large sparse matrices.\n",
    "\n",
    "**Limitations:** The preprocessing stage may require additional time and space to determine the positions of non-zero elements in sparse matrices, especially for extremely sparse matrices.The FK algorithm is suitable for sparse matrices and may not perform as well as traditional matrix multiplication algorithms for dense matrices."
   ]
  }
 ],
 "metadata": {
  "kernelspec": {
   "display_name": "Python 3 (ipykernel)",
   "language": "python",
   "name": "python3"
  },
  "language_info": {
   "codemirror_mode": {
    "name": "ipython",
    "version": 3
   },
   "file_extension": ".py",
   "mimetype": "text/x-python",
   "name": "python",
   "nbconvert_exporter": "python",
   "pygments_lexer": "ipython3",
   "version": "3.8.18"
  }
 },
 "nbformat": 4,
 "nbformat_minor": 5
}
